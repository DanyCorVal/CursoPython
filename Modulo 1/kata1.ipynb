{
 "cells": [
  {
   "cell_type": "markdown",
   "metadata": {},
   "source": []
  },
  {
   "cell_type": "code",
   "execution_count": 1,
   "metadata": {},
   "outputs": [
    {
     "name": "stdout",
     "output_type": "stream",
     "text": [
      "El dia de hoy es: 2022-02-14\n",
      "11  parsec, son  35.877159999999996  años luz\n"
     ]
    }
   ],
   "source": [
    "from datetime import date\n",
    "\n",
    "print(\"El dia de hoy es: \" + str(date.today()))\n",
    "\n",
    "parsec = 11\n",
    "anios_luz = 3.26156 * parsec\n",
    "\n",
    "print(str(parsec), \" parsec, son \", str(anios_luz), \" años luz\")"
   ]
  }
 ],
 "metadata": {
  "interpreter": {
   "hash": "fc07409088ffdf3c7ff25c66e4bae9fe0757255f6ab6dbcb0ed0c369143e8317"
  },
  "kernelspec": {
   "display_name": "Python 3.10.2 64-bit",
   "language": "python",
   "name": "python3"
  },
  "language_info": {
   "codemirror_mode": {
    "name": "ipython",
    "version": 3
   },
   "file_extension": ".py",
   "mimetype": "text/x-python",
   "name": "python",
   "nbconvert_exporter": "python",
   "pygments_lexer": "ipython3",
   "version": "3.10.2"
  },
  "orig_nbformat": 4
 },
 "nbformat": 4,
 "nbformat_minor": 2
}
