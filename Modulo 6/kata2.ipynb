{
 "cells": [
  {
   "cell_type": "code",
   "execution_count": null,
   "metadata": {},
   "outputs": [],
   "source": [
    "planetas = [\"Mercury\", \"Venus\", \"Earth\", \"Mars\", \"Jupiter\", \"Saturn\", \"Neptune\"]\n",
    "\n",
    "nuevo_planeta = input(\"Inserte el nombre de un planeta (Empezando con la primera letra mayuscula):\")\n",
    "\n",
    "planetas.append(nuevo_planeta)\n",
    "\n",
    "indice_planeta_encontrado = planetas.index(nuevo_planeta)\n",
    "\n",
    "print(\"Planetas mas cercanos al Sol:\", planetas[0:int(indice_planeta_encontrado) + 1])\n",
    "\n",
    "print(planetas.reverse())\n",
    "print(\"Planetas mas alejados del Sol:\", planetas.reverse())"
   ]
  }
 ],
 "metadata": {
  "language_info": {
   "name": "python"
  },
  "orig_nbformat": 4
 },
 "nbformat": 4,
 "nbformat_minor": 2
}
