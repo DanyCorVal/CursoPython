{
 "cells": [
  {
   "cell_type": "code",
   "execution_count": null,
   "metadata": {},
   "outputs": [],
   "source": [
    "\n",
    "tierra = 149597870\n",
    "jupiter = 778547200\n",
    "\n",
    "distancia_jupiter_tierra_km = jupiter - tierra \n",
    "distancia_tierra_jupiter_mll = distancia_jupiter_tierra_km  * 0.621\n",
    "\n",
    "print(distancia_jupiter_tierra_km)\n",
    "print(distancia_tierra_jupiter_mll)"
   ]
  }
 ],
 "metadata": {
  "language_info": {
   "name": "python"
  },
  "orig_nbformat": 4
 },
 "nbformat": 4,
 "nbformat_minor": 2
}
