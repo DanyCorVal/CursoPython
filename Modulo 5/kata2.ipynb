{
 "cells": [
  {
   "cell_type": "code",
   "execution_count": null,
   "metadata": {},
   "outputs": [],
   "source": [
    "distancia_primer_planeta = input(\"¿Introduzca distancia del primer planeta?\")\n",
    "distancia_segundo_planeta = input(\"¿Introduzca distancia del segundo planeta?\")\n",
    "\n",
    "distancia_primer_planeta_int = int(distancia_primer_planeta)\n",
    "distancia_segundo_planeta_int = int(distancia_segundo_planeta)\n",
    "\n",
    "distancia_entra_planetas_km = abs(distancia_primer_planeta - distancia_segundo_planeta)\n",
    "distancia_entre_planetas_millas = distancia_entra_planetas_km * 0.621\n",
    "\n",
    "print(distancia_entra_planetas_km )\n",
    "print(distancia_entre_planetas_millas)"
   ]
  }
 ],
 "metadata": {
  "language_info": {
   "name": "python"
  },
  "orig_nbformat": 4
 },
 "nbformat": 4,
 "nbformat_minor": 2
}
