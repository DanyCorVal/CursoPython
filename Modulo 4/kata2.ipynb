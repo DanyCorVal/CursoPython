{
 "cells": [
  {
   "cell_type": "code",
   "execution_count": 8,
   "metadata": {},
   "outputs": [
    {
     "name": "stdout",
     "output_type": "stream",
     "text": [
      "Propiedades Gravitarias De La Luna \n",
      " --------------------------- \n",
      " Gravedad: 1.6199999999999999 km, \n",
      " Planeta al que orbita: Tierra\n",
      "\n",
      "Propiedades gravitarias de Fobos \n",
      " --------------------------- \n",
      " Gravedad: 141000 km, \n",
      " Planeta al que orbita: Marte\n"
     ]
    }
   ],
   "source": [
    "nombre = \"la Luna\"\n",
    "gravedad = 0.00162 \n",
    "planeta = \"Tierra\"\n",
    "\n",
    "titulo = f\"Propiedades gravitarias de {nombre}\"\n",
    "\n",
    "plantilla = f\"{titulo.title()} \\n --------------------------- \\n Gravedad: {gravedad * 1000} km, \\n Planeta al que orbita: {planeta}\"\n",
    "print(plantilla)\n",
    "\n",
    "nueva_plantilla = \"\\nPropiedades gravitarias de {nombre} \\n --------------------------- \\n Gravedad: {gravedad} km, \\n Planeta al que orbita: {planeta}\".format(nombre = 'Fobos', gravedad = 141 * 1000, planeta = 'Marte')\n",
    "print(nueva_plantilla)\n",
    "\n"
   ]
  }
 ],
 "metadata": {
  "interpreter": {
   "hash": "fc07409088ffdf3c7ff25c66e4bae9fe0757255f6ab6dbcb0ed0c369143e8317"
  },
  "kernelspec": {
   "display_name": "Python 3.10.2 64-bit",
   "language": "python",
   "name": "python3"
  },
  "language_info": {
   "codemirror_mode": {
    "name": "ipython",
    "version": 3
   },
   "file_extension": ".py",
   "mimetype": "text/x-python",
   "name": "python",
   "nbconvert_exporter": "python",
   "pygments_lexer": "ipython3",
   "version": "3.10.2"
  },
  "orig_nbformat": 4
 },
 "nbformat": 4,
 "nbformat_minor": 2
}
