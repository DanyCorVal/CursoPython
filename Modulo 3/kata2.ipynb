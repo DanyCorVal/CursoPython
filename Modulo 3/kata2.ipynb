{
 "cells": [
  {
   "cell_type": "code",
   "execution_count": null,
   "metadata": {},
   "outputs": [],
   "source": [
    "\n",
    "velocidad_asteroide_entrante = 19\n",
    "limite_velocidad_dentro_atmosfera = 20\n",
    "velocidad_asteroide = 45\n",
    "limite_velocidad = 25\n",
    "\n",
    "tamanio_menor_asteroide = 25\n",
    "tamanio_mayor_asteroide = 1000\n",
    "tamanio_asteroide = 500\n",
    "\n",
    "if velocidad_asteroide > limite_velocidad:\n",
    "    if tamanio_asteroide > tamanio_asteroide:\n",
    "        print(\"Peligro un asteroide grande se acerca rapidamente a la tierra\")\n",
    "    else:\n",
    "        print(\"Peligro.. El asteroide se acerca rapidamente a la tierra superando el limite de velocidad\")\n",
    "elif velocidad_asteroide >= limite_velocidad_dentro_atmosfera:\n",
    "    if tamanio_asteroide > tamanio_asteroide:\n",
    "        print(\"Peligro un asteroide grande se acerca a la tierra\")\n",
    "    else:\n",
    "        print(\"Mira arriba, que se puede ver un destello de luz\")\n",
    "else:\n",
    "    print(\"Fuera de peligro\")"
   ]
  }
 ],
 "metadata": {
  "language_info": {
   "name": "python"
  },
  "orig_nbformat": 4
 },
 "nbformat": 4,
 "nbformat_minor": 2
}
