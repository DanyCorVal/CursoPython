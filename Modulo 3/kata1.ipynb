{
 "cells": [
  {
   "cell_type": "code",
   "execution_count": null,
   "metadata": {},
   "outputs": [],
   "source": [
    "velocidad_asteroide = 45\n",
    "liminte_velocidad = 25\n",
    "\n",
    "if velocidad_asteroide > liminte_velocidad:\n",
    "    print(\"Peligro.. El asteroide se acerca rapidamente a la tierra superando el limite de velocidad\")\n",
    "else:\n",
    "    print(\"La velocidad del asteroide se encuentre debajo del limite de velocidad\")\n",
    "\n",
    "velocidad_asteroide_entrante = 19\n",
    "limite_velocidad_dentro_atmosfera = 20\n",
    "\n",
    "if velocidad_asteroide_entrante > limite_velocidad_dentro_atmosfera:\n",
    "    print(\"Mira arriba que se puede ver un destello de luz\")\n",
    "elif velocidad_asteroide_entrante == limite_velocidad_dentro_atmosfera:\n",
    "    print(\"Mira arriba, que se puede ver un destello de luz\")\n",
    "else:\n",
    "    print(\"No se puede mirar nada en el cielo\")\n"
   ]
  }
 ],
 "metadata": {
  "language_info": {
   "name": "python"
  },
  "orig_nbformat": 4
 },
 "nbformat": 4,
 "nbformat_minor": 2
}
