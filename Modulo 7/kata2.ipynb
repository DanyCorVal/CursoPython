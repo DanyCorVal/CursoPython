{
 "cells": [
  {
   "cell_type": "code",
   "execution_count": 2,
   "metadata": {},
   "outputs": [
    {
     "name": "stdout",
     "output_type": "stream",
     "text": [
      "Planetas descubiertos:\n",
      "*Pluton\n",
      "*Mercurio\n",
      "*Venus\n",
      "*Saturno\n",
      "*Jupiter\n",
      "*done\n"
     ]
    }
   ],
   "source": [
    "\n",
    "nuevo_planeta = ''\n",
    "planetas_descubiertos = []\n",
    "\n",
    "while nuevo_planeta.lower() != 'done':\n",
    "    nuevo_planeta = input('Inserte un nuevo planeta descubierto:')\n",
    "    planetas_descubiertos.append(nuevo_planeta)\n",
    "\n",
    "for planeta in planetas_descubiertos:\n",
    "    if planeta == planetas_descubiertos[0]:\n",
    "        print('Planetas descubiertos:')\n",
    "    print('* ' + planeta)"
   ]
  }
 ],
 "metadata": {
  "interpreter": {
   "hash": "fc07409088ffdf3c7ff25c66e4bae9fe0757255f6ab6dbcb0ed0c369143e8317"
  },
  "kernelspec": {
   "display_name": "Python 3.10.2 64-bit",
   "language": "python",
   "name": "python3"
  },
  "language_info": {
   "codemirror_mode": {
    "name": "ipython",
    "version": 3
   },
   "file_extension": ".py",
   "mimetype": "text/x-python",
   "name": "python",
   "nbconvert_exporter": "python",
   "pygments_lexer": "ipython3",
   "version": "3.10.2"
  },
  "orig_nbformat": 4
 },
 "nbformat": 4,
 "nbformat_minor": 2
}
