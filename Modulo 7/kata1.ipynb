{
 "cells": [
  {
   "cell_type": "code",
   "execution_count": 8,
   "metadata": {},
   "outputs": [
    {
     "name": "stdout",
     "output_type": "stream",
     "text": [
      "Planetas descubiertos:  ['Pluton', 'Tierra', 'Marte', 'Venus', 'Mercurio', 'Saturno', 'Urano', 'Neptuno', 'done']\n"
     ]
    }
   ],
   "source": [
    "nuevo_planeta = ''\n",
    "planetas = []\n",
    "\n",
    "while nuevo_planeta.lower() != 'done':\n",
    "    nuevo_planeta = input('Inserte un nuevo planeta descubierto:')\n",
    "    planetas.append(nuevo_planeta)\n",
    "\n",
    "\n",
    "print('Planetas descubiertos: ', planetas)"
   ]
  }
 ],
 "metadata": {
  "interpreter": {
   "hash": "fc07409088ffdf3c7ff25c66e4bae9fe0757255f6ab6dbcb0ed0c369143e8317"
  },
  "kernelspec": {
   "display_name": "Python 3.10.2 64-bit",
   "language": "python",
   "name": "python3"
  },
  "language_info": {
   "codemirror_mode": {
    "name": "ipython",
    "version": 3
   },
   "file_extension": ".py",
   "mimetype": "text/x-python",
   "name": "python",
   "nbconvert_exporter": "python",
   "pygments_lexer": "ipython3",
   "version": "3.10.2"
  },
  "orig_nbformat": 4
 },
 "nbformat": 4,
 "nbformat_minor": 2
}
