{
 "cells": [
  {
   "cell_type": "markdown",
   "metadata": {},
   "source": [
    "# Planteas y cantidad de lunas"
   ]
  },
  {
   "cell_type": "code",
   "execution_count": 2,
   "metadata": {},
   "outputs": [
    {
     "name": "stdout",
     "output_type": "stream",
     "text": [
      "Cantidad de lunas de planetas descubiertos:  214\n"
     ]
    }
   ],
   "source": [
    "planetas_cantidad_lunas = {\n",
    "    'mercury': 0,\n",
    "    'venus': 0,\n",
    "    'earth': 1,\n",
    "    'mars': 2,\n",
    "    'jupiter': 79,\n",
    "    'saturn': 82,\n",
    "    'uranus': 27,\n",
    "    'neptune': 14,\n",
    "    'pluto': 5,\n",
    "    'haumea': 2,\n",
    "    'makemake': 1,\n",
    "    'eris': 1\n",
    "}\n",
    "\n",
    "cantidad_total_lunas = 0\n",
    "\n",
    "for cantidad_lunas in planetas_cantidad_lunas.values():\n",
    "    cantidad_total_lunas = cantidad_total_lunas + cantidad_lunas\n",
    "\n",
    "print('Cantidad de lunas de planetas descubiertos: ', cantidad_total_lunas)"
   ]
  }
 ],
 "metadata": {
  "interpreter": {
   "hash": "fc07409088ffdf3c7ff25c66e4bae9fe0757255f6ab6dbcb0ed0c369143e8317"
  },
  "kernelspec": {
   "display_name": "Python 3.10.2 64-bit",
   "language": "python",
   "name": "python3"
  },
  "language_info": {
   "codemirror_mode": {
    "name": "ipython",
    "version": 3
   },
   "file_extension": ".py",
   "mimetype": "text/x-python",
   "name": "python",
   "nbconvert_exporter": "python",
   "pygments_lexer": "ipython3",
   "version": "3.10.2"
  },
  "orig_nbformat": 4
 },
 "nbformat": 4,
 "nbformat_minor": 2
}
