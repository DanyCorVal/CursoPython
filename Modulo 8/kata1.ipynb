{
 "cells": [
  {
   "cell_type": "code",
   "execution_count": 13,
   "metadata": {},
   "outputs": [
    {
     "name": "stdout",
     "output_type": "stream",
     "text": [
      "Nombre Planeta: Marte , Cantidad de lunas: 1\n",
      "Nombre Planeta: Marte , Datos circunferencia (km) => Polar: 6752 , Circunferencia: 6792\n"
     ]
    }
   ],
   "source": [
    "planeta = {\n",
    "    'nombre': 'Marte',\n",
    "    'cantidad_lunas': 1\n",
    "}\n",
    "\n",
    "print('Nombre Planeta:', planeta.get('nombre'), ', Cantidad de lunas:', planeta['cantidad_lunas'])\n",
    "\n",
    "planeta['circunferencia (km)'] = {\n",
    "    'polar': 6752,\n",
    "    'equatorial':6792\n",
    "}\n",
    "\n",
    "print('Nombre Planeta:', planeta['nombre'], ', Datos circunferencia (km) => Polar:', planeta['circunferencia (km)']['polar'], ', Circunferencia:', planeta['circunferencia (km)']['equatorial'])"
   ]
  }
 ],
 "metadata": {
  "interpreter": {
   "hash": "fc07409088ffdf3c7ff25c66e4bae9fe0757255f6ab6dbcb0ed0c369143e8317"
  },
  "kernelspec": {
   "display_name": "Python 3.10.2 64-bit",
   "language": "python",
   "name": "python3"
  },
  "language_info": {
   "codemirror_mode": {
    "name": "ipython",
    "version": 3
   },
   "file_extension": ".py",
   "mimetype": "text/x-python",
   "name": "python",
   "nbconvert_exporter": "python",
   "pygments_lexer": "ipython3",
   "version": "3.10.2"
  },
  "orig_nbformat": 4
 },
 "nbformat": 4,
 "nbformat_minor": 2
}
