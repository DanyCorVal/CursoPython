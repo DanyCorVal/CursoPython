{
 "cells": [
  {
   "cell_type": "code",
   "execution_count": 41,
   "metadata": {},
   "outputs": [
    {
     "name": "stdout",
     "output_type": "stream",
     "text": [
      "Datos de Navegacion => \n",
      " Hora de Prelanzamiento: 14 \n",
      " Tiempo Estimado de vuelo: 10 \n",
      " Destino Final: luna \n",
      " Nivel(es) de tanque(s) => \n",
      "  Externo: 14 \n",
      "  Interno: 47\n"
     ]
    }
   ],
   "source": [
    "def mostrar_reporte(**argumentos):\n",
    "    print(f\"Datos de Navegacion => \\n Hora de Prelanzamiento: {argumentos['hora_prelanzamiento']} \\n Tiempo Estimado de vuelo: {argumentos['tiempo_vuelo']} \\n Destino Final: {argumentos['destino']} \\n Nivel(es) de tanque(s) => \\n  Externo: {argumentos['nivel_tanque']['externo']} \\n  Interno: {argumentos['nivel_tanque']['interno']}\")\n",
    "\n",
    "mostrar_reporte(hora_prelanzamiento = 14, tiempo_vuelo = 10, destino = 'luna', nivel_tanque = { 'externo' : 14, 'interno': 47 })"
   ]
  },
  {
   "cell_type": "code",
   "execution_count": 42,
   "metadata": {},
   "outputs": [
    {
     "name": "stdout",
     "output_type": "stream",
     "text": [
      "Datos de Navegacion => \n",
      " Hora de Prelanzamiento: 14 \n",
      " Destino Final: Luna \n",
      " Tiempo Estimado de vuelo -->\n",
      "  salida: 14\n",
      "  espacio: 45\n",
      "  entrada: 10\n",
      "  Tiempo total estimado: 69 \n",
      " Nivel(es) de tanque(s) => \n",
      "  Externo: 14 \n",
      "  Interno: 47\n"
     ]
    }
   ],
   "source": [
    "def mostrar_reporte_tiempo(**argumentos):\n",
    "    tiempo_total = 0\n",
    "    text = f\"Datos de Navegacion => \\n Hora de Prelanzamiento: {argumentos['hora_prelanzamiento']} \\n Destino Final: {argumentos['destino']} \\n Tiempo Estimado de vuelo -->\"\n",
    "    for proceso, tiempo in argumentos['tiempo_vuelo_procesos'].items():\n",
    "        text += f\"\\n  {proceso}: {tiempo}\"\n",
    "        tiempo_total += tiempo\n",
    "\n",
    "    text += f\"\\n  Tiempo total estimado: {tiempo_total} \\n Nivel(es) de tanque(s) => \\n  Externo: {argumentos['nivel_tanque']['externo']} \\n  Interno: {argumentos['nivel_tanque']['interno']}\"\n",
    "    print(text)\n",
    "    \n",
    "mostrar_reporte_tiempo(hora_prelanzamiento = 14, tiempo_vuelo_procesos = {'salida': 14, 'espacio': 45, 'entrada': 10}, destino = 'Luna', nivel_tanque = { 'externo' : 14, 'interno': 47 })"
   ]
  },
  {
   "cell_type": "code",
   "execution_count": 43,
   "metadata": {},
   "outputs": [
    {
     "name": "stdout",
     "output_type": "stream",
     "text": [
      "Datos de Navegacion => \n",
      " Hora de Prelanzamiento: 14 \n",
      " Destino Final: Luna \n",
      " Tiempo Estimado de vuelo -->\n",
      "  salida: 14\n",
      "  espacio: 45\n",
      "  entrada: 10\n",
      "  Tiempo total estimado: 69 \n",
      " Nivel(es) de tanque(s) combustible =>\n",
      "  externo: 14\n",
      "  interno: 47\n",
      "  auxiliar: 45\n",
      "  repuesto: 75\n",
      "  Nivel total: 69\n"
     ]
    }
   ],
   "source": [
    "def mostrar_reporte_tanque(**argumentos):\n",
    "    tiempo_total = 0\n",
    "    nivel_total = 0\n",
    "    text = f\"Datos de Navegacion => \\n Hora de Prelanzamiento: {argumentos['hora_prelanzamiento']} \\n Destino Final: {argumentos['destino']} \\n Tiempo Estimado de vuelo -->\"\n",
    "    for proceso, tiempo in argumentos['tiempo_vuelo_procesos'].items():\n",
    "        text += f\"\\n  {proceso}: {tiempo}\"\n",
    "        tiempo_total += tiempo\n",
    "    text += f\"\\n  Tiempo total estimado: {tiempo_total} \\n Nivel(es) de tanque(s) combustible =>\"\n",
    "\n",
    "    for tanque, nivel in argumentos['nivel_tanque'].items():\n",
    "        text += f\"\\n  {tanque}: {nivel}\"\n",
    "        nivel_total += nivel\n",
    "    text += f\"\\n  Nivel total: {tiempo_total}\"\n",
    "\n",
    "    print(text)\n",
    "    \n",
    "mostrar_reporte_tanque(hora_prelanzamiento = 14, tiempo_vuelo_procesos = {'salida': 14, 'espacio': 45, 'entrada': 10}, destino = 'Luna', nivel_tanque = { 'externo' : 14, 'interno': 47, 'auxiliar': 45 , 'repuesto' : 75})"
   ]
  }
 ],
 "metadata": {
  "interpreter": {
   "hash": "fc07409088ffdf3c7ff25c66e4bae9fe0757255f6ab6dbcb0ed0c369143e8317"
  },
  "kernelspec": {
   "display_name": "Python 3.10.2 64-bit",
   "language": "python",
   "name": "python3"
  },
  "language_info": {
   "codemirror_mode": {
    "name": "ipython",
    "version": 3
   },
   "file_extension": ".py",
   "mimetype": "text/x-python",
   "name": "python",
   "nbconvert_exporter": "python",
   "pygments_lexer": "ipython3",
   "version": "3.10.2"
  },
  "orig_nbformat": 4
 },
 "nbformat": 4,
 "nbformat_minor": 2
}
