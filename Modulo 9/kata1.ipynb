{
 "cells": [
  {
   "cell_type": "code",
   "execution_count": 5,
   "metadata": {},
   "outputs": [],
   "source": [
    "def lectura_combustible(tanque_principal, tanque_secundario, tanque_terciario):\n",
    "    print('Niveles Tanques de Combustible: Primario:', tanque_principal, ', Secundario:', tanque_secundario, ', Terciario:', tanque_terciario)\n",
    "    nivel_promedio = calcular_promedio_tanques(tanque_principal, tanque_secundario, tanque_terciario)\n",
    "    return nivel_promedio\n",
    "    \n",
    "def calcular_promedio_tanques(tanque_principal, tanque_secundario, tanque_terciario):\n",
    "    return (tanque_principal + tanque_secundario + tanque_terciario) / 3"
   ]
  },
  {
   "cell_type": "code",
   "execution_count": 6,
   "metadata": {},
   "outputs": [
    {
     "name": "stdout",
     "output_type": "stream",
     "text": [
      "Niveles Tanques de Combustible: Primario: 80 , Secundario: 40 , Terciario: 10\n",
      "43.333333333333336\n"
     ]
    }
   ],
   "source": [
    "print(lectura_combustible(80, 40, 10))"
   ]
  }
 ],
 "metadata": {
  "interpreter": {
   "hash": "fc07409088ffdf3c7ff25c66e4bae9fe0757255f6ab6dbcb0ed0c369143e8317"
  },
  "kernelspec": {
   "display_name": "Python 3.10.2 64-bit",
   "language": "python",
   "name": "python3"
  },
  "language_info": {
   "codemirror_mode": {
    "name": "ipython",
    "version": 3
   },
   "file_extension": ".py",
   "mimetype": "text/x-python",
   "name": "python",
   "nbconvert_exporter": "python",
   "pygments_lexer": "ipython3",
   "version": "3.10.2"
  },
  "orig_nbformat": 4
 },
 "nbformat": 4,
 "nbformat_minor": 2
}
